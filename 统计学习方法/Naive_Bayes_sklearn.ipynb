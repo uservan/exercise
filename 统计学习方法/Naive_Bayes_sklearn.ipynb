{
 "cells": [
  {
   "cell_type": "code",
   "execution_count": 1,
   "metadata": {},
   "outputs": [],
   "source": [
    "import numpy as np\n",
    "from sklearn.naive_bayes import GaussianNB"
   ]
  },
  {
   "cell_type": "markdown",
   "metadata": {},
   "source": [
    "### 一.sklearn.naive_bayes.GaussianNB(priors=None)\n",
    "其中 priors代表预先设定每个类别的先验概率，一般设置为None\n",
    "其中，X代表数据的特征向量，y代表类别标签"
   ]
  },
  {
   "cell_type": "code",
   "execution_count": 2,
   "metadata": {},
   "outputs": [
    {
     "data": {
      "text/plain": [
       "GaussianNB(priors=None, var_smoothing=1e-09)"
      ]
     },
     "execution_count": 2,
     "metadata": {},
     "output_type": "execute_result"
    }
   ],
   "source": [
    "X = np.array([[-1, -1], [-2, -2], [-3, -3],[-4,-4],[-5,-5], [1, 1], [2, 2], [3, 3]])\n",
    "y = np.array([1, 1, 1,1,1, 2, 2, 2])\n",
    "clf = GaussianNB()\n",
    "clf.fit(X,y)"
   ]
  },
  {
   "cell_type": "markdown",
   "metadata": {},
   "source": [
    "### 1.查看具体的参数值\n",
    "\n",
    "- class_prior_:查看每个类别的先验概率\n",
    "\n",
    "- class_count_:各类标签对应的样本数量\n",
    "\n",
    "- theta_:各个类别的在各个特征上的均值\n",
    "\n",
    "- sigma_:各个类别在各个特征上的方差"
   ]
  },
  {
   "cell_type": "code",
   "execution_count": 4,
   "metadata": {},
   "outputs": [
    {
     "data": {
      "text/plain": [
       "array([0.625, 0.375])"
      ]
     },
     "execution_count": 4,
     "metadata": {},
     "output_type": "execute_result"
    }
   ],
   "source": [
    "clf.class_prior_"
   ]
  },
  {
   "cell_type": "code",
   "execution_count": 5,
   "metadata": {},
   "outputs": [
    {
     "data": {
      "text/plain": [
       "array([5., 3.])"
      ]
     },
     "execution_count": 5,
     "metadata": {},
     "output_type": "execute_result"
    }
   ],
   "source": [
    "clf.class_count_"
   ]
  },
  {
   "cell_type": "code",
   "execution_count": 6,
   "metadata": {},
   "outputs": [
    {
     "data": {
      "text/plain": [
       "array([[-3., -3.],\n",
       "       [ 2.,  2.]])"
      ]
     },
     "execution_count": 6,
     "metadata": {},
     "output_type": "execute_result"
    }
   ],
   "source": [
    "clf.theta_"
   ]
  },
  {
   "cell_type": "code",
   "execution_count": 7,
   "metadata": {},
   "outputs": [
    {
     "data": {
      "text/plain": [
       "array([[2.00000001, 2.00000001],\n",
       "       [0.66666667, 0.66666667]])"
      ]
     },
     "execution_count": 7,
     "metadata": {},
     "output_type": "execute_result"
    }
   ],
   "source": [
    "clf.sigma_"
   ]
  },
  {
   "cell_type": "markdown",
   "metadata": {},
   "source": [
    "### 2.具体的方法\n",
    "- fit(X,y,sample_weight = None):喂养数据,其中sample_weight代表更样本的权重\n",
    "\n",
    "例如：clf.fit(X,y,np.array([0.05,0.05,0.1,0.1,0.1,0.2,0.2,0.2]))\n",
    "则 \n",
    "均值= ((-1*0.05)+(-2*0.05)+(-3*0.1)+(-4*0.1+(-5*0.1)))/(0.05+0.05+0.1+0.1+0.1)=-3.375\n",
    "方差=((-1+3.375)**2*0.05 +(-2+3.375)**2*0.05+(-3+3.375)**2*0.1+(-4+3.375)**2*0.1+(-5+3.375)**2*0.1)/(0.05+0.05+0.1+0.1+0.1)=1.73437501\n",
    "\n",
    "- get_params(deep = True):返回有priors组成的参数字典\n",
    "\n",
    "- set_params(** params):设置priors参数\n",
    "\n",
    "- partial_fit(X,y,classes=None ,sample_weight):增量式训练，其中，如果第一次用fit训练过，则不用理会classes，否则需设定classes参数\n",
    "\n",
    "- predict(X):输出X的类别预测\n",
    "\n",
    "- predict_proba(X):输出测试样本在各个类别的预测概率值\n",
    "\n",
    "- predict_log_proba(X)：输出测试样本在各个类标记上预测概率值对应对数值\n",
    "\n",
    "- score(X, y, sample_weight=None)：返回测试样本映射到指定类标记上的得分(准确率)"
   ]
  },
  {
   "cell_type": "code",
   "execution_count": 8,
   "metadata": {},
   "outputs": [
    {
     "data": {
      "text/plain": [
       "{'priors': None, 'var_smoothing': 1e-09}"
      ]
     },
     "execution_count": 8,
     "metadata": {},
     "output_type": "execute_result"
    }
   ],
   "source": [
    "clf.get_params()"
   ]
  },
  {
   "cell_type": "code",
   "execution_count": 9,
   "metadata": {},
   "outputs": [
    {
     "data": {
      "text/plain": [
       "array([1, 2])"
      ]
     },
     "execution_count": 9,
     "metadata": {},
     "output_type": "execute_result"
    }
   ],
   "source": [
    "clf.predict([[-6,-6],[4,5]])"
   ]
  },
  {
   "cell_type": "code",
   "execution_count": 10,
   "metadata": {},
   "outputs": [
    {
     "data": {
      "text/plain": [
       "array([[1.00000000e+00, 3.29099984e-40],\n",
       "       [5.13191647e-09, 9.99999995e-01]])"
      ]
     },
     "execution_count": 10,
     "metadata": {},
     "output_type": "execute_result"
    }
   ],
   "source": [
    "clf.predict_proba([[-6,-6],[4,5]])"
   ]
  },
  {
   "cell_type": "code",
   "execution_count": 11,
   "metadata": {},
   "outputs": [
    {
     "data": {
      "text/plain": [
       "array([[ 0.00000000e+00, -9.09122123e+01],\n",
       "       [-1.90877867e+01, -5.13191623e-09]])"
      ]
     },
     "execution_count": 11,
     "metadata": {},
     "output_type": "execute_result"
    }
   ],
   "source": [
    "clf.predict_log_proba([[-6,-6],[4,5]])"
   ]
  },
  {
   "cell_type": "code",
   "execution_count": 15,
   "metadata": {},
   "outputs": [
    {
     "data": {
      "text/plain": [
       "0.6"
      ]
     },
     "execution_count": 15,
     "metadata": {},
     "output_type": "execute_result"
    }
   ],
   "source": [
    "#clf.score([[-6,-6],[-4,-2],[-3,-4],[4,5]],[1,1,2,2])\n",
    "clf.score([[-6,-6],[-4,-2],[-3,-4],[4,5]],[1,1,2,2],sample_weight=[0.3 ,0.2,0.4,0.1])"
   ]
  },
  {
   "cell_type": "markdown",
   "metadata": {},
   "source": [
    "### 多项式朴素贝叶斯\n",
    "#### sklearn.naive_bayes.MultinomialNB(alpha=1.0, fit_prior=True, class_prior=None)\n",
    "- alpha : 贝叶斯估计时用到的alpha ，一般设置为1\n",
    "- fit_proir : 表示是否要设置先验概率，False：代表先验概率=1/N，True：先验概率：n/N(n为类别所占个数）\n",
    "- class_proir:表示预先设置先验概率，一般输入数组或None"
   ]
  },
  {
   "cell_type": "code",
   "execution_count": 16,
   "metadata": {},
   "outputs": [
    {
     "data": {
      "text/plain": [
       "MultinomialNB(alpha=1.0, class_prior=None, fit_prior=True)"
      ]
     },
     "execution_count": 16,
     "metadata": {},
     "output_type": "execute_result"
    }
   ],
   "source": [
    "from sklearn.naive_bayes import MultinomialNB\n",
    "X = np.array([[1,2,3,4],[1,3,4,4],[2,4,5,5],[2,5,6,5],[3,4,5,6],[3,5,6, 6]])\n",
    "y = np.array([1,1,4,2,3,3])\n",
    "clf = MultinomialNB(alpha=1.0)\n",
    "clf.fit(X,y)"
   ]
  },
  {
   "cell_type": "markdown",
   "metadata": {},
   "source": [
    "#### 属性值\n",
    "- class_log_prior_：各类标记的平滑先验概率对数值，其取值会受fit_prior和class_prior参数的影响\n",
    "- intercept_：将多项式朴素贝叶斯解释的class_log_prior_映射为线性模型，其值和class_log_propr相同\n",
    "- feature_log_prob_：指定类的各特征概率(条件概率)对数值，返回形状为(n_classes, n_features)数组。假设X对应的四个特征为A1、A2、A3、A4，类别为y1,y2,类别为y1时，特征A1的概率为：P(A1|y=y1) = P(A1=0|y=y1)*A1+P(A1=1|y=y1)*A1\n",
    "- coef_：将多项式朴素贝叶斯解释feature_log_prob_映射成线性模型，其值和feature_log_prob相同\n",
    "- class_count_：训练样本中各类别对应的样本数，按类的顺序排序输出\n",
    "- feature_count_：各类别各个特征出现的次数，返回形状为(n_classes, n_features)数组"
   ]
  },
  {
   "cell_type": "code",
   "execution_count": 19,
   "metadata": {},
   "outputs": [
    {
     "data": {
      "text/plain": [
       "array([-1.09861229, -1.79175947, -1.09861229, -1.79175947])"
      ]
     },
     "execution_count": 19,
     "metadata": {},
     "output_type": "execute_result"
    }
   ],
   "source": [
    "clf.class_log_prior_\n",
    "clf.intercept_"
   ]
  },
  {
   "cell_type": "code",
   "execution_count": 20,
   "metadata": {},
   "outputs": [
    {
     "data": {
      "text/plain": [
       "array([[-2.15948425, -1.46633707, -1.178655  , -1.06087196],\n",
       "       [-1.99243016, -1.29928298, -1.1451323 , -1.29928298],\n",
       "       [-1.79175947, -1.43508453, -1.25276297, -1.17272026],\n",
       "       [-1.89711998, -1.38629436, -1.2039728 , -1.2039728 ]])"
      ]
     },
     "execution_count": 20,
     "metadata": {},
     "output_type": "execute_result"
    }
   ],
   "source": [
    "clf.feature_log_prob_"
   ]
  },
  {
   "cell_type": "code",
   "execution_count": 24,
   "metadata": {},
   "outputs": [
    {
     "data": {
      "text/plain": [
       "array([2., 1., 2., 1.])"
      ]
     },
     "execution_count": 24,
     "metadata": {},
     "output_type": "execute_result"
    }
   ],
   "source": [
    "clf.class_count_"
   ]
  },
  {
   "cell_type": "code",
   "execution_count": 25,
   "metadata": {},
   "outputs": [
    {
     "data": {
      "text/plain": [
       "array([[ 2.,  5.,  7.,  8.],\n",
       "       [ 2.,  5.,  6.,  5.],\n",
       "       [ 6.,  9., 11., 12.],\n",
       "       [ 2.,  4.,  5.,  5.]])"
      ]
     },
     "execution_count": 25,
     "metadata": {},
     "output_type": "execute_result"
    }
   ],
   "source": [
    "clf.feature_count_"
   ]
  },
  {
   "cell_type": "markdown",
   "metadata": {},
   "source": [
    "#### 方法\n",
    "- fit(X,y,sample_weight)\n",
    "- get_params(deep=True)\n",
    "- partial_fit(X, y, classes=None, sample_weight=None)\n",
    "- predict(X)\n",
    "- predict_log_proba(X)：测试样本划分到各个类的概率对数值\n",
    "- predict_proba(X)：输出测试样本划分到各个类别的概率值\n",
    "- score(X, y, sample_weight=None)"
   ]
  },
  {
   "cell_type": "markdown",
   "metadata": {},
   "source": [
    "### 伯努利朴素贝叶斯\n",
    "sklearn.naive_bayes.BernoulliNB(alpha=1.0, binarize=0.0,fit_prior=True,class_prior=None)\n",
    "- alpha\n",
    "- binarize：代表阈值线，大于则为1，小于等于则为0\n",
    "- fit_prior\n",
    "- class_prior"
   ]
  },
  {
   "cell_type": "code",
   "execution_count": 28,
   "metadata": {},
   "outputs": [
    {
     "data": {
      "text/plain": [
       "array([-0.40546511, -1.09861229])"
      ]
     },
     "execution_count": 28,
     "metadata": {},
     "output_type": "execute_result"
    }
   ],
   "source": [
    "from sklearn.naive_bayes import BernoulliNB\n",
    "X = np.array([[1,2,3,4],[1,3,4,4],[2,4,5,5]])\n",
    "y = np.array([1,1,2])\n",
    "clf = BernoulliNB(alpha=2.0,binarize = 3.0,fit_prior=True)\n",
    "clf.fit(X,y)\n",
    "clf.class_log_prior_"
   ]
  }
 ],
 "metadata": {
  "kernelspec": {
   "display_name": "Python 3",
   "language": "python",
   "name": "python3"
  },
  "language_info": {
   "codemirror_mode": {
    "name": "ipython",
    "version": 3
   },
   "file_extension": ".py",
   "mimetype": "text/x-python",
   "name": "python",
   "nbconvert_exporter": "python",
   "pygments_lexer": "ipython3",
   "version": "3.7.3"
  }
 },
 "nbformat": 4,
 "nbformat_minor": 2
}
